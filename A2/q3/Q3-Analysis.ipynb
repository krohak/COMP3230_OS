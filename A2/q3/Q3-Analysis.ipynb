{
 "cells": [
  {
   "cell_type": "code",
   "execution_count": 48,
   "metadata": {},
   "outputs": [],
   "source": [
    "import subprocess\n",
    "import matplotlib.pyplot as plt"
   ]
  },
  {
   "cell_type": "code",
   "execution_count": 59,
   "metadata": {},
   "outputs": [
    {
     "name": "stdout",
     "output_type": "stream",
     "text": [
      "160.010327\n",
      "116.004914\n",
      "92.004131\n",
      "60.002428\n",
      "30.001189\n",
      "15.001775\n",
      "15.000952\n"
     ]
    }
   ],
   "source": [
    "num_cars = 4\n",
    "num_space = 40\n",
    "\n",
    "worker_list = [1, 2, 4, 8, 16, 32, 64]\n",
    "\n",
    "duration_list = []\n",
    "\n",
    "for num_workers in worker_list:\n",
    "\n",
    "    cmd = \"./tesla_factory.out {} {} {}\".format(num_cars, num_space, num_workers)\n",
    "    out = float(subprocess.check_output(cmd, shell=True).decode(\"utf-8\"))\n",
    "    print(out)\n",
    "    \n",
    "    duration_list.append(out)"
   ]
  },
  {
   "cell_type": "code",
   "execution_count": 62,
   "metadata": {
    "scrolled": true
   },
   "outputs": [
    {
     "data": {
      "text/plain": [
       "[160.010327, 116.004914, 92.004131, 60.002428, 30.001189, 15.001775, 15.000952]"
      ]
     },
     "execution_count": 62,
     "metadata": {},
     "output_type": "execute_result"
    }
   ],
   "source": [
    "duration_list"
   ]
  },
  {
   "cell_type": "code",
   "execution_count": 74,
   "metadata": {},
   "outputs": [
    {
     "data": {
      "image/png": "[encoded data removed]",
      "text/plain": [
       "<matplotlib.figure.Figure at 0x7fc2d49c0908>"
      ]
     },
     "metadata": {},
     "output_type": "display_data"
    }
   ],
   "source": [
    "fig = plt.figure()\n",
    "plt.plot(worker_list, duration_list, marker='o')\n",
    "fig.suptitle('{} cars with {} space'.format(num_cars, num_space), fontsize=16)\n",
    "plt.xlabel('workers / threads', fontsize=12)\n",
    "plt.ylabel('duration', fontsize=12)\n",
    "fig.savefig('{}-cars-{}-space.jpg'.format(num_cars, num_space))\n",
    "plt.show()"
   ]
  },
  {
   "cell_type": "code",
   "execution_count": null,
   "metadata": {
    "collapsed": true
   },
   "outputs": [],
   "source": []
  },
  {
   "cell_type": "code",
   "execution_count": null,
   "metadata": {
    "collapsed": true
   },
   "outputs": [],
   "source": []
  },
  {
   "cell_type": "code",
   "execution_count": null,
   "metadata": {
    "collapsed": true
   },
   "outputs": [],
   "source": []
  },
  {
   "cell_type": "code",
   "execution_count": 75,
   "metadata": {},
   "outputs": [
    {
     "name": "stdout",
     "output_type": "stream",
     "text": [
      "65.004073\n",
      "54.003251\n",
      "30.001023\n",
      "15.000679\n",
      "15.000729\n",
      "15.000984\n"
     ]
    }
   ],
   "source": [
    "num_cars = 3\n",
    "num_space = 40\n",
    "\n",
    "worker_list = [3, 5, 13, 29, 37, 61]\n",
    "\n",
    "duration_list = []\n",
    "\n",
    "for num_workers in worker_list:\n",
    "\n",
    "    cmd = \"./tesla_factory.out {} {} {}\".format(num_cars, num_space, num_workers)\n",
    "    out = float(subprocess.check_output(cmd, shell=True).decode(\"utf-8\"))\n",
    "    print(out)\n",
    "    \n",
    "    duration_list.append(out)"
   ]
  },
  {
   "cell_type": "code",
   "execution_count": 76,
   "metadata": {
    "scrolled": true
   },
   "outputs": [
    {
     "data": {
      "text/plain": [
       "[65.004073, 54.003251, 30.001023, 15.000679, 15.000729, 15.000984]"
      ]
     },
     "execution_count": 76,
     "metadata": {},
     "output_type": "execute_result"
    }
   ],
   "source": [
    "duration_list"
   ]
  },
  {
   "cell_type": "code",
   "execution_count": 77,
   "metadata": {},
   "outputs": [
    {
     "data": {
      "image/png": "[encoded data removed]",
      "text/plain": [
       "<matplotlib.figure.Figure at 0x7fc2d49e9a90>"
      ]
     },
     "metadata": {},
     "output_type": "display_data"
    }
   ],
   "source": [
    "fig = plt.figure()\n",
    "plt.plot(worker_list, duration_list, marker='o')\n",
    "fig.suptitle('{} cars with {} space - Arbitrarily Prime # Threads'.format(num_cars, num_space), fontsize=16)\n",
    "plt.xlabel('workers / threads', fontsize=12)\n",
    "plt.ylabel('duration', fontsize=12)\n",
    "fig.savefig('{}-cars-{}-space.jpg'.format(num_cars, num_space))\n",
    "plt.show()"
   ]
  },
  {
   "cell_type": "code",
   "execution_count": null,
   "metadata": {
    "collapsed": true
   },
   "outputs": [],
   "source": []
  },
  {
   "cell_type": "code",
   "execution_count": null,
   "metadata": {
    "collapsed": true
   },
   "outputs": [],
   "source": []
  },
  {
   "cell_type": "code",
   "execution_count": null,
   "metadata": {
    "collapsed": true
   },
   "outputs": [],
   "source": []
  },
  {
   "cell_type": "code",
   "execution_count": 80,
   "metadata": {},
   "outputs": [
    {
     "name": "stdout",
     "output_type": "stream",
     "text": [
      "15.00053\n",
      "15.000883\n",
      "30.001636\n",
      "60.002937\n",
      "120.007593\n",
      "240.014433\n",
      "480.026457\n"
     ]
    }
   ],
   "source": [
    "cars_list = [1, 2, 4, 8, 16, 32, 64]\n",
    "\n",
    "num_space = 40\n",
    "\n",
    "num_workers = 16\n",
    "\n",
    "duration_list = []\n",
    "\n",
    "for num_cars in cars_list:\n",
    "\n",
    "    cmd = \"./tesla_factory.out {} {} {}\".format(num_cars, num_space, num_workers)\n",
    "    out = float(subprocess.check_output(cmd, shell=True).decode(\"utf-8\"))\n",
    "    print(out)\n",
    "    \n",
    "    duration_list.append(out)"
   ]
  },
  {
   "cell_type": "code",
   "execution_count": 81,
   "metadata": {
    "scrolled": true
   },
   "outputs": [
    {
     "data": {
      "text/plain": [
       "[15.00053, 15.000883, 30.001636, 60.002937, 120.007593, 240.014433, 480.026457]"
      ]
     },
     "execution_count": 81,
     "metadata": {},
     "output_type": "execute_result"
    }
   ],
   "source": [
    "duration_list"
   ]
  },
  {
   "cell_type": "code",
   "execution_count": 88,
   "metadata": {},
   "outputs": [
    {
     "data": {
      "image/png": "[encoded data removed]",
      "text/plain": [
       "<matplotlib.figure.Figure at 0x7fc2d4d6b438>"
      ]
     },
     "metadata": {},
     "output_type": "display_data"
    }
   ],
   "source": [
    "fig = plt.figure()\n",
    "plt.plot(cars_list, duration_list, marker='o')\n",
    "fig.suptitle('{} workers with {} space'.format(num_workers, num_space), fontsize=16)\n",
    "plt.xlabel('number of cars', fontsize=12)\n",
    "plt.ylabel('duration', fontsize=12)\n",
    "fig.savefig('{}-workers-{}-space.jpg'.format(num_workers, num_space))\n",
    "plt.show()"
   ]
  },
  {
   "cell_type": "code",
   "execution_count": null,
   "metadata": {
    "collapsed": true
   },
   "outputs": [],
   "source": []
  },
  {
   "cell_type": "code",
   "execution_count": null,
   "metadata": {
    "collapsed": true
   },
   "outputs": [],
   "source": []
  },
  {
   "cell_type": "code",
   "execution_count": null,
   "metadata": {
    "collapsed": true
   },
   "outputs": [],
   "source": []
  },
  {
   "cell_type": "code",
   "execution_count": 58,
   "metadata": {},
   "outputs": [
    {
     "data": {
      "text/plain": [
       "b'54.003089\\n'"
      ]
     },
     "execution_count": 58,
     "metadata": {},
     "output_type": "execute_result"
    }
   ],
   "source": [
    "num_cars=3\n",
    "num_space=100\n",
    "num_workers=5\n",
    "\n",
    "\n",
    "cmd = \"./tesla_factory.out {} {} {}\".format(num_cars, num_space, num_workers)\n",
    "subprocess.check_output(cmd, shell=True)"
   ]
  },
  {
   "cell_type": "code",
   "execution_count": null,
   "metadata": {
    "collapsed": true
   },
   "outputs": [],
   "source": []
  }
 ],
 "metadata": {
  "kernelspec": {
   "display_name": "Python 3",
   "language": "python",
   "name": "python3"
  },
  "language_info": {
   "codemirror_mode": {
    "name": "ipython",
    "version": 3
   },
   "file_extension": ".py",
   "mimetype": "text/x-python",
   "name": "python",
   "nbconvert_exporter": "python",
   "pygments_lexer": "ipython3",
   "version": "3.6.1"
  }
 },
 "nbformat": 4,
 "nbformat_minor": 2
}
